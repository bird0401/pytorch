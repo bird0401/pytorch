{
  "nbformat": 4,
  "nbformat_minor": 0,
  "metadata": {
    "colab": {
      "name": "2-6_loss_function.ipynb",
      "provenance": [],
      "mount_file_id": "1HixNqpmgETAKwA19pa-tIB0Oyx-QADo5",
      "authorship_tag": "ABX9TyMP7ckh61FvkO7yCEBJp07U",
      "include_colab_link": true
    },
    "kernelspec": {
      "name": "python3",
      "display_name": "Python 3"
    },
    "language_info": {
      "name": "python"
    }
  },
  "cells": [
    {
      "cell_type": "markdown",
      "metadata": {
        "id": "view-in-github",
        "colab_type": "text"
      },
      "source": [
        "<a href=\"https://colab.research.google.com/github/mot1122/study_pytorch/blob/main/2_6_loss_function.ipynb\" target=\"_parent\"><img src=\"https://colab.research.google.com/assets/colab-badge.svg\" alt=\"Open In Colab\"/></a>"
      ]
    },
    {
      "cell_type": "code",
      "execution_count": 3,
      "metadata": {
        "id": "VeABk0Nc4sew"
      },
      "outputs": [],
      "source": [
        "cp /content/drive/MyDrive/pytorch_advanced/2_objectdetection/utils/match.py match.py "
      ]
    },
    {
      "cell_type": "code",
      "source": [
        "import torch\n",
        "import torch.nn as nn\n",
        "import torch.nn.functional as F\n",
        "from match import match"
      ],
      "metadata": {
        "id": "-dNkXttZ5DLF"
      },
      "execution_count": 4,
      "outputs": []
    },
    {
      "cell_type": "code",
      "source": [
        "class MultiBoxLoss(nn.Module):\n",
        "  def __init__(self,jaccard_thresh=0.5,neg_pos=3,device=\"cpu\"):\n",
        "    super().__init__()\n",
        "    self.jaccard_thresh=jaccard_thresh\n",
        "    self.neg_pos=neg_pos\n",
        "    self.device=device\n",
        "  def forward(self,predictions,targets):\n",
        "    loc_data,conf_data,dbox_list=predictions\n",
        "    num_batch=conf_data.size(0)\n",
        "    num_dbox=conf_data.size(1)\n",
        "    num_classes=conf_data.size(2)\n",
        "    loc_t=torch.LongTensor(num_batch,num_dbox).to(self.device)\n",
        "    conf_t_label=torch.Tensor(num_batch,num_dbox,4).to(self.device)\n",
        "    for idx in range(num_batch):\n",
        "      truths=targets[idx][:,:-1].to(self.device)\n",
        "      labels=targets[idx][:,-1].to(self.device)\n",
        "      dbox=dbox_list.to(self.device)\n",
        "      variance=[0.1,0.2]\n",
        "      match(self.jaccard_thresh,truths,dbox,variance,labels,loc_t,conf_t_label,idx)\n",
        "    pos_mask=conf_t_label>0\n",
        "    pos_idx=pos_mask.unsqueese(pos_mask.dim()).expand_as(loc_data)\n",
        "    loc_p=loc_data[pos_idx].view(-1,4)\n",
        "    lot_t=loc_t[pos_idx].view(-1,4)\n",
        "    loss_l=F.smooth_l1_loss(loc_p,lot_t,reduction=\"sum\")\n",
        "    batch_conf=conf_data.view(-1,num_classes)\n",
        "    loss_c=F.cross_entropy(batch_conf,conf_t_label.view(-1),reduction=\"none\")\n",
        "    num_pos=pos_mask.long().sum(1,keepdim=True)\n",
        "    loss_c=loss_c.view(num_batch,-1)\n",
        "    loss_c[pos_mask]=0\n",
        "    _,loss_idx=loss_c.sort(1,descending=True)\n",
        "    _,idx_rank=loss_idx.sort(1)\n",
        "    num_neg=torch.clamp(num_pos*self.neg_pos,max=num_dbox)\n",
        "    neg_mask=idx_rank<(num_neg.expand_as(idx_rank))\n",
        "    pos_idx_mask=pos_mask.unsqueese(2).expand_as(conf_data)\n",
        "    neg_idx_mask=neg_mask.unsqueese(2).expand_as(conf_data)\n",
        "    conf_hnm=conf_data[(pos_idx_mask+neg_idx_mask).gt(0)].view(-1,num_classes)\n",
        "    conf_t_label_hnm=conf_t_label[(pos_idx_mask+neg_idx_mask).gt(0)]\n",
        "    loss_c=F.cross_entropy_loss(conf_hnm,conf_t_label_hnm,reduction=\"sum\")\n",
        "    N=num_pos.sum()\n",
        "    loss_l/=N\n",
        "    loss_c/=N\n",
        "    return loss_l,loss_c"
      ],
      "metadata": {
        "id": "Uno00FpH5SVO"
      },
      "execution_count": 5,
      "outputs": []
    }
  ]
}