{
  "nbformat": 4,
  "nbformat_minor": 0,
  "metadata": {
    "colab": {
      "name": "2_4_2_5_ SSD_model_forward.ipynb",
      "provenance": [],
      "authorship_tag": "ABX9TyN9+wxnr4/BPMfmH/Q3kfLy",
      "include_colab_link": true
    },
    "kernelspec": {
      "name": "python3",
      "display_name": "Python 3"
    },
    "language_info": {
      "name": "python"
    }
  },
  "cells": [
    {
      "cell_type": "markdown",
      "metadata": {
        "id": "view-in-github",
        "colab_type": "text"
      },
      "source": [
        "<a href=\"https://colab.research.google.com/github/mot1122/study_pytorch/blob/main/2_4_2_5__SSD_model_forward.ipynb\" target=\"_parent\"><img src=\"https://colab.research.google.com/assets/colab-badge.svg\" alt=\"Open In Colab\"/></a>"
      ]
    },
    {
      "cell_type": "code",
      "execution_count": 3,
      "metadata": {
        "id": "Wxo17HL77WLg"
      },
      "outputs": [],
      "source": [
        "from math import sqrt\n",
        "from itertools import product\n",
        "\n",
        "import pandas as pd\n",
        "import torch\n",
        "from torch.autograd import Function\n",
        "import torch.nn as nn\n",
        "import torch.nn.functional as F\n",
        "import torch.nn.init as init"
      ]
    },
    {
      "cell_type": "code",
      "source": [
        "def make_vgg():\n",
        "  cfg=[64,64,\"M\",128,128,\"M\",256,256,256,\"MC\",512,512,512,\"M\",512,512,512]\n",
        "  layers=[]\n",
        "  in_channels=3\n",
        "  for m in cfg:\n",
        "    if m==\"M\":layers+=[nn.MaxPool2d(kernel_size=2,stride=2)]\n",
        "    elif m==\"MC\":layers+=[nn.MaxPool2d(kernel_size=2,stride=2,ceil_mode=True)]\n",
        "    else:\n",
        "      layers+=[nn.Conv2d(in_channels,m,kernel_size=3,padding=1),nn.ReLU(inplace=True)]\n",
        "      in_channels=m\n",
        "      \n",
        "  layers+=[nn.MaxPool2d(kernel_size=3,stride=1,padding=1)]\n",
        "  layers+=[nn.Conv2d(in_channels,1024,kernel_size=3,padding=6,dilation=6),nn.ReLU(inplace=True)]\n",
        "  in_channels=1024\n",
        "  layers+=[nn.Conv2d(in_channels,1024,kernel_size=1),nn.ReLU(inplace=True)]\n",
        "  return nn.ModuleList(layers)\n"
      ],
      "metadata": {
        "id": "fUMpuqpP8BUs"
      },
      "execution_count": 4,
      "outputs": []
    },
    {
      "cell_type": "code",
      "source": [
        "vgg_test=make_vgg()\n",
        "print(vgg_test)"
      ],
      "metadata": {
        "colab": {
          "base_uri": "https://localhost:8080/"
        },
        "id": "Lr5tsKF7_wfq",
        "outputId": "a181f2d8-d5ef-46c5-a21c-09cb819e4584"
      },
      "execution_count": 5,
      "outputs": [
        {
          "output_type": "stream",
          "name": "stdout",
          "text": [
            "ModuleList(\n",
            "  (0): Conv2d(3, 64, kernel_size=(3, 3), stride=(1, 1), padding=(1, 1))\n",
            "  (1): ReLU(inplace=True)\n",
            "  (2): Conv2d(64, 64, kernel_size=(3, 3), stride=(1, 1), padding=(1, 1))\n",
            "  (3): ReLU(inplace=True)\n",
            "  (4): MaxPool2d(kernel_size=2, stride=2, padding=0, dilation=1, ceil_mode=False)\n",
            "  (5): Conv2d(64, 128, kernel_size=(3, 3), stride=(1, 1), padding=(1, 1))\n",
            "  (6): ReLU(inplace=True)\n",
            "  (7): Conv2d(128, 128, kernel_size=(3, 3), stride=(1, 1), padding=(1, 1))\n",
            "  (8): ReLU(inplace=True)\n",
            "  (9): MaxPool2d(kernel_size=2, stride=2, padding=0, dilation=1, ceil_mode=False)\n",
            "  (10): Conv2d(128, 256, kernel_size=(3, 3), stride=(1, 1), padding=(1, 1))\n",
            "  (11): ReLU(inplace=True)\n",
            "  (12): Conv2d(256, 256, kernel_size=(3, 3), stride=(1, 1), padding=(1, 1))\n",
            "  (13): ReLU(inplace=True)\n",
            "  (14): Conv2d(256, 256, kernel_size=(3, 3), stride=(1, 1), padding=(1, 1))\n",
            "  (15): ReLU(inplace=True)\n",
            "  (16): MaxPool2d(kernel_size=2, stride=2, padding=0, dilation=1, ceil_mode=True)\n",
            "  (17): Conv2d(256, 512, kernel_size=(3, 3), stride=(1, 1), padding=(1, 1))\n",
            "  (18): ReLU(inplace=True)\n",
            "  (19): Conv2d(512, 512, kernel_size=(3, 3), stride=(1, 1), padding=(1, 1))\n",
            "  (20): ReLU(inplace=True)\n",
            "  (21): Conv2d(512, 512, kernel_size=(3, 3), stride=(1, 1), padding=(1, 1))\n",
            "  (22): ReLU(inplace=True)\n",
            "  (23): MaxPool2d(kernel_size=2, stride=2, padding=0, dilation=1, ceil_mode=False)\n",
            "  (24): Conv2d(512, 512, kernel_size=(3, 3), stride=(1, 1), padding=(1, 1))\n",
            "  (25): ReLU(inplace=True)\n",
            "  (26): Conv2d(512, 512, kernel_size=(3, 3), stride=(1, 1), padding=(1, 1))\n",
            "  (27): ReLU(inplace=True)\n",
            "  (28): Conv2d(512, 512, kernel_size=(3, 3), stride=(1, 1), padding=(1, 1))\n",
            "  (29): ReLU(inplace=True)\n",
            "  (30): MaxPool2d(kernel_size=3, stride=1, padding=1, dilation=1, ceil_mode=False)\n",
            "  (31): Conv2d(512, 1024, kernel_size=(3, 3), stride=(1, 1), padding=(6, 6), dilation=(6, 6))\n",
            "  (32): ReLU(inplace=True)\n",
            "  (33): Conv2d(1024, 1024, kernel_size=(1, 1), stride=(1, 1))\n",
            "  (34): ReLU(inplace=True)\n",
            ")\n"
          ]
        }
      ]
    },
    {
      "cell_type": "code",
      "source": [
        "def make_extras():\n",
        "  layers=[]\n",
        "  in_channel=1024\n",
        "  for i in range(8):\n",
        "    out_channel=[256, 512, 128, 256, 128, 256, 128, 256][i]\n",
        "    kernel_size=[1,3][i%2]\n",
        "    if i in [1,3]:stride,padding=2,1\n",
        "    else:stride,padding=1,0\n",
        "    layers+=[nn.Conv2d(in_channel,out_channel,kernel_size=kernel_size,stride=stride,padding=padding)]\n",
        "    in_channel=out_channel\n",
        "  return nn.ModuleList(layers)"
      ],
      "metadata": {
        "id": "2lCzp1gHBTHN"
      },
      "execution_count": 6,
      "outputs": []
    },
    {
      "cell_type": "code",
      "source": [
        "extras_test=make_extras()\n",
        "print(extras_test)"
      ],
      "metadata": {
        "colab": {
          "base_uri": "https://localhost:8080/"
        },
        "id": "_oIeCByGa59A",
        "outputId": "b078fba8-661f-43d6-ff4b-5ab71723a16d"
      },
      "execution_count": 7,
      "outputs": [
        {
          "output_type": "stream",
          "name": "stdout",
          "text": [
            "ModuleList(\n",
            "  (0): Conv2d(1024, 256, kernel_size=(1, 1), stride=(1, 1))\n",
            "  (1): Conv2d(256, 512, kernel_size=(3, 3), stride=(2, 2), padding=(1, 1))\n",
            "  (2): Conv2d(512, 128, kernel_size=(1, 1), stride=(1, 1))\n",
            "  (3): Conv2d(128, 256, kernel_size=(3, 3), stride=(2, 2), padding=(1, 1))\n",
            "  (4): Conv2d(256, 128, kernel_size=(1, 1), stride=(1, 1))\n",
            "  (5): Conv2d(128, 256, kernel_size=(3, 3), stride=(1, 1))\n",
            "  (6): Conv2d(256, 128, kernel_size=(1, 1), stride=(1, 1))\n",
            "  (7): Conv2d(128, 256, kernel_size=(3, 3), stride=(1, 1))\n",
            ")\n"
          ]
        }
      ]
    },
    {
      "cell_type": "code",
      "source": [
        "def make_loc_conf(num_classes=21, bbox_aspect_num=[4, 6, 6, 6, 4, 4]):\n",
        "  loc_layers,conf_layers=[],[]\n",
        "  in_channels=[512,1024,512,256,256,256]\n",
        "  for in_channel,an in zip(in_channels,bbox_aspect_num):\n",
        "    loc_layers+=[nn.Conv2d(in_channel,an*4,kernel_size=3,padding=1)]\n",
        "    conf_layers+=[nn.Conv2d(in_channel,an*num_classes,kernel_size=3,padding=1)]\n",
        "  return nn.ModuleList(loc_layers),nn.ModuleList(conf_layers)"
      ],
      "metadata": {
        "id": "-PNsLvTya-iQ"
      },
      "execution_count": 8,
      "outputs": []
    },
    {
      "cell_type": "code",
      "source": [
        "loc_test,conf_test=make_loc_conf()\n",
        "print(loc_test)\n",
        "print(conf_test)"
      ],
      "metadata": {
        "id": "VdWm4xR9btit",
        "colab": {
          "base_uri": "https://localhost:8080/"
        },
        "outputId": "5df2deec-f512-4097-8ce5-1475f520fc80"
      },
      "execution_count": 9,
      "outputs": [
        {
          "output_type": "stream",
          "name": "stdout",
          "text": [
            "ModuleList(\n",
            "  (0): Conv2d(512, 16, kernel_size=(3, 3), stride=(1, 1), padding=(1, 1))\n",
            "  (1): Conv2d(1024, 24, kernel_size=(3, 3), stride=(1, 1), padding=(1, 1))\n",
            "  (2): Conv2d(512, 24, kernel_size=(3, 3), stride=(1, 1), padding=(1, 1))\n",
            "  (3): Conv2d(256, 24, kernel_size=(3, 3), stride=(1, 1), padding=(1, 1))\n",
            "  (4): Conv2d(256, 16, kernel_size=(3, 3), stride=(1, 1), padding=(1, 1))\n",
            "  (5): Conv2d(256, 16, kernel_size=(3, 3), stride=(1, 1), padding=(1, 1))\n",
            ")\n",
            "ModuleList(\n",
            "  (0): Conv2d(512, 84, kernel_size=(3, 3), stride=(1, 1), padding=(1, 1))\n",
            "  (1): Conv2d(1024, 126, kernel_size=(3, 3), stride=(1, 1), padding=(1, 1))\n",
            "  (2): Conv2d(512, 126, kernel_size=(3, 3), stride=(1, 1), padding=(1, 1))\n",
            "  (3): Conv2d(256, 126, kernel_size=(3, 3), stride=(1, 1), padding=(1, 1))\n",
            "  (4): Conv2d(256, 84, kernel_size=(3, 3), stride=(1, 1), padding=(1, 1))\n",
            "  (5): Conv2d(256, 84, kernel_size=(3, 3), stride=(1, 1), padding=(1, 1))\n",
            ")\n"
          ]
        }
      ]
    },
    {
      "cell_type": "code",
      "source": [
        "class L2Norm(nn.Module):\n",
        "  def __init__(self,in_channels=512,scale=20):\n",
        "    super().__init__()\n",
        "    self.in_channels=in_channels\n",
        "    self.weight=nn.Parameter(torch.Tensor(in_channels))\n",
        "    self.scale=scale\n",
        "    self.reset_parameters()\n",
        "    self.eps=1e-10\n",
        "  def reset_parameters(self):\n",
        "    init.constant_(self.weight,self.scale)\n",
        "  def forward(self,x):\n",
        "    norm=x.pow(2).sum(dim=1,keepdim=True).sqrt()+self.eps\n",
        "    torch.div(x,norm)\n",
        "    weights=self.weight.unsqueeze(0).unsqueeze(2).unsqueeze(3).expand_as(x)\n",
        "    return x*weights"
      ],
      "metadata": {
        "id": "kpv3bCbJm7sP"
      },
      "execution_count": 10,
      "outputs": []
    },
    {
      "cell_type": "code",
      "source": [
        "ssd_cfg={\n",
        "    \"num_classes\":21,\n",
        "    \"image_size\":300,\n",
        "    \"bbox_aspect_num\":[4,6,6,6,4,4],\n",
        "    \"feature_maps\":[38, 19, 10, 5, 3, 1],\n",
        "    \"steps\":[8, 16, 32, 64, 100, 300],\n",
        "    \"min_sizes\":[30, 60, 111, 162, 213, 264],\n",
        "    \"max_sizes\":[60, 111, 162, 213, 264, 315],\n",
        "    \"aspect_ratios\":[[2], [2, 3], [2, 3], [2, 3], [2], [2]],\n",
        "}"
      ],
      "metadata": {
        "id": "PPHsi0sq0GsI"
      },
      "execution_count": 11,
      "outputs": []
    },
    {
      "cell_type": "code",
      "source": [
        "class DBox(object):\n",
        "  def __init__(self,cfg):\n",
        "    super().__init__()\n",
        "    self.image_size=cfg[\"image_size\"]\n",
        "    self.feature_maps=cfg[\"feature_maps\"]\n",
        "    self.num_priors=len(cfg[\"feature_maps\"])\n",
        "    self.steps=cfg[\"steps\"]\n",
        "    self.min_sizes=cfg[\"min_sizes\"]\n",
        "    self.max_sizes=cfg[\"max_sizes\"]\n",
        "    self.aspect_ratios=cfg[\"aspect_ratios\"]\n",
        "  def make_dbox_list(self):\n",
        "    mean=[]\n",
        "    for map,step,min,max,ar in zip(self.feature_maps,self.steps,self.min_sizes,self.max_sizes,self.aspect_ratios):\n",
        "      for i,j in product(range(map),repeat=2):\n",
        "        f_k=300/step\n",
        "        cx,cy=(j+0.5)/f_k, (i+0.5)/f_k\n",
        "        s_k=min/self.image_size\n",
        "        mean+=[cx,cy,s_k,s_k]\n",
        "        s_k_max=sqrt(s_k*max/self.image_size)\n",
        "        mean+=[cx,cy,s_k_max,s_k_max]\n",
        "        for e in ar:\n",
        "          mean+=[cx,cy,s_k*sqrt(e),s_k/sqrt(e)]\n",
        "          mean+=[cx,cy,s_k/sqrt(e),s_k*sqrt(e)]\n",
        "    output=torch.Tensor(mean).view(-1,4)\n",
        "    output.clamp_(min=0,max=1)\n",
        "    return output"
      ],
      "metadata": {
        "id": "fbZCfQqs1pEj"
      },
      "execution_count": 12,
      "outputs": []
    },
    {
      "cell_type": "code",
      "source": [
        "dbox=DBox(ssd_cfg)\n",
        "dbox_list=dbox.make_dbox_list()\n",
        "pd.DataFrame(dbox_list.numpy())"
      ],
      "metadata": {
        "colab": {
          "base_uri": "https://localhost:8080/",
          "height": 424
        },
        "id": "SmeTvoGu_UQ1",
        "outputId": "dbb08079-3ab5-4767-baac-627a33c435de"
      },
      "execution_count": 13,
      "outputs": [
        {
          "output_type": "execute_result",
          "data": {
            "text/html": [
              "\n",
              "  <div id=\"df-edb774cd-825c-4d45-bab6-704838278780\">\n",
              "    <div class=\"colab-df-container\">\n",
              "      <div>\n",
              "<style scoped>\n",
              "    .dataframe tbody tr th:only-of-type {\n",
              "        vertical-align: middle;\n",
              "    }\n",
              "\n",
              "    .dataframe tbody tr th {\n",
              "        vertical-align: top;\n",
              "    }\n",
              "\n",
              "    .dataframe thead th {\n",
              "        text-align: right;\n",
              "    }\n",
              "</style>\n",
              "<table border=\"1\" class=\"dataframe\">\n",
              "  <thead>\n",
              "    <tr style=\"text-align: right;\">\n",
              "      <th></th>\n",
              "      <th>0</th>\n",
              "      <th>1</th>\n",
              "      <th>2</th>\n",
              "      <th>3</th>\n",
              "    </tr>\n",
              "  </thead>\n",
              "  <tbody>\n",
              "    <tr>\n",
              "      <th>0</th>\n",
              "      <td>0.013333</td>\n",
              "      <td>0.013333</td>\n",
              "      <td>0.100000</td>\n",
              "      <td>0.100000</td>\n",
              "    </tr>\n",
              "    <tr>\n",
              "      <th>1</th>\n",
              "      <td>0.013333</td>\n",
              "      <td>0.013333</td>\n",
              "      <td>0.141421</td>\n",
              "      <td>0.141421</td>\n",
              "    </tr>\n",
              "    <tr>\n",
              "      <th>2</th>\n",
              "      <td>0.013333</td>\n",
              "      <td>0.013333</td>\n",
              "      <td>0.141421</td>\n",
              "      <td>0.070711</td>\n",
              "    </tr>\n",
              "    <tr>\n",
              "      <th>3</th>\n",
              "      <td>0.013333</td>\n",
              "      <td>0.013333</td>\n",
              "      <td>0.070711</td>\n",
              "      <td>0.141421</td>\n",
              "    </tr>\n",
              "    <tr>\n",
              "      <th>4</th>\n",
              "      <td>0.040000</td>\n",
              "      <td>0.013333</td>\n",
              "      <td>0.100000</td>\n",
              "      <td>0.100000</td>\n",
              "    </tr>\n",
              "    <tr>\n",
              "      <th>...</th>\n",
              "      <td>...</td>\n",
              "      <td>...</td>\n",
              "      <td>...</td>\n",
              "      <td>...</td>\n",
              "    </tr>\n",
              "    <tr>\n",
              "      <th>8727</th>\n",
              "      <td>0.833333</td>\n",
              "      <td>0.833333</td>\n",
              "      <td>0.502046</td>\n",
              "      <td>1.000000</td>\n",
              "    </tr>\n",
              "    <tr>\n",
              "      <th>8728</th>\n",
              "      <td>0.500000</td>\n",
              "      <td>0.500000</td>\n",
              "      <td>0.880000</td>\n",
              "      <td>0.880000</td>\n",
              "    </tr>\n",
              "    <tr>\n",
              "      <th>8729</th>\n",
              "      <td>0.500000</td>\n",
              "      <td>0.500000</td>\n",
              "      <td>0.961249</td>\n",
              "      <td>0.961249</td>\n",
              "    </tr>\n",
              "    <tr>\n",
              "      <th>8730</th>\n",
              "      <td>0.500000</td>\n",
              "      <td>0.500000</td>\n",
              "      <td>1.000000</td>\n",
              "      <td>0.622254</td>\n",
              "    </tr>\n",
              "    <tr>\n",
              "      <th>8731</th>\n",
              "      <td>0.500000</td>\n",
              "      <td>0.500000</td>\n",
              "      <td>0.622254</td>\n",
              "      <td>1.000000</td>\n",
              "    </tr>\n",
              "  </tbody>\n",
              "</table>\n",
              "<p>8732 rows × 4 columns</p>\n",
              "</div>\n",
              "      <button class=\"colab-df-convert\" onclick=\"convertToInteractive('df-edb774cd-825c-4d45-bab6-704838278780')\"\n",
              "              title=\"Convert this dataframe to an interactive table.\"\n",
              "              style=\"display:none;\">\n",
              "        \n",
              "  <svg xmlns=\"http://www.w3.org/2000/svg\" height=\"24px\"viewBox=\"0 0 24 24\"\n",
              "       width=\"24px\">\n",
              "    <path d=\"M0 0h24v24H0V0z\" fill=\"none\"/>\n",
              "    <path d=\"M18.56 5.44l.94 2.06.94-2.06 2.06-.94-2.06-.94-.94-2.06-.94 2.06-2.06.94zm-11 1L8.5 8.5l.94-2.06 2.06-.94-2.06-.94L8.5 2.5l-.94 2.06-2.06.94zm10 10l.94 2.06.94-2.06 2.06-.94-2.06-.94-.94-2.06-.94 2.06-2.06.94z\"/><path d=\"M17.41 7.96l-1.37-1.37c-.4-.4-.92-.59-1.43-.59-.52 0-1.04.2-1.43.59L10.3 9.45l-7.72 7.72c-.78.78-.78 2.05 0 2.83L4 21.41c.39.39.9.59 1.41.59.51 0 1.02-.2 1.41-.59l7.78-7.78 2.81-2.81c.8-.78.8-2.07 0-2.86zM5.41 20L4 18.59l7.72-7.72 1.47 1.35L5.41 20z\"/>\n",
              "  </svg>\n",
              "      </button>\n",
              "      \n",
              "  <style>\n",
              "    .colab-df-container {\n",
              "      display:flex;\n",
              "      flex-wrap:wrap;\n",
              "      gap: 12px;\n",
              "    }\n",
              "\n",
              "    .colab-df-convert {\n",
              "      background-color: #E8F0FE;\n",
              "      border: none;\n",
              "      border-radius: 50%;\n",
              "      cursor: pointer;\n",
              "      display: none;\n",
              "      fill: #1967D2;\n",
              "      height: 32px;\n",
              "      padding: 0 0 0 0;\n",
              "      width: 32px;\n",
              "    }\n",
              "\n",
              "    .colab-df-convert:hover {\n",
              "      background-color: #E2EBFA;\n",
              "      box-shadow: 0px 1px 2px rgba(60, 64, 67, 0.3), 0px 1px 3px 1px rgba(60, 64, 67, 0.15);\n",
              "      fill: #174EA6;\n",
              "    }\n",
              "\n",
              "    [theme=dark] .colab-df-convert {\n",
              "      background-color: #3B4455;\n",
              "      fill: #D2E3FC;\n",
              "    }\n",
              "\n",
              "    [theme=dark] .colab-df-convert:hover {\n",
              "      background-color: #434B5C;\n",
              "      box-shadow: 0px 1px 3px 1px rgba(0, 0, 0, 0.15);\n",
              "      filter: drop-shadow(0px 1px 2px rgba(0, 0, 0, 0.3));\n",
              "      fill: #FFFFFF;\n",
              "    }\n",
              "  </style>\n",
              "\n",
              "      <script>\n",
              "        const buttonEl =\n",
              "          document.querySelector('#df-edb774cd-825c-4d45-bab6-704838278780 button.colab-df-convert');\n",
              "        buttonEl.style.display =\n",
              "          google.colab.kernel.accessAllowed ? 'block' : 'none';\n",
              "\n",
              "        async function convertToInteractive(key) {\n",
              "          const element = document.querySelector('#df-edb774cd-825c-4d45-bab6-704838278780');\n",
              "          const dataTable =\n",
              "            await google.colab.kernel.invokeFunction('convertToInteractive',\n",
              "                                                     [key], {});\n",
              "          if (!dataTable) return;\n",
              "\n",
              "          const docLinkHtml = 'Like what you see? Visit the ' +\n",
              "            '<a target=\"_blank\" href=https://colab.research.google.com/notebooks/data_table.ipynb>data table notebook</a>'\n",
              "            + ' to learn more about interactive tables.';\n",
              "          element.innerHTML = '';\n",
              "          dataTable['output_type'] = 'display_data';\n",
              "          await google.colab.output.renderOutput(dataTable, element);\n",
              "          const docLink = document.createElement('div');\n",
              "          docLink.innerHTML = docLinkHtml;\n",
              "          element.appendChild(docLink);\n",
              "        }\n",
              "      </script>\n",
              "    </div>\n",
              "  </div>\n",
              "  "
            ],
            "text/plain": [
              "             0         1         2         3\n",
              "0     0.013333  0.013333  0.100000  0.100000\n",
              "1     0.013333  0.013333  0.141421  0.141421\n",
              "2     0.013333  0.013333  0.141421  0.070711\n",
              "3     0.013333  0.013333  0.070711  0.141421\n",
              "4     0.040000  0.013333  0.100000  0.100000\n",
              "...        ...       ...       ...       ...\n",
              "8727  0.833333  0.833333  0.502046  1.000000\n",
              "8728  0.500000  0.500000  0.880000  0.880000\n",
              "8729  0.500000  0.500000  0.961249  0.961249\n",
              "8730  0.500000  0.500000  1.000000  0.622254\n",
              "8731  0.500000  0.500000  0.622254  1.000000\n",
              "\n",
              "[8732 rows x 4 columns]"
            ]
          },
          "metadata": {},
          "execution_count": 13
        }
      ]
    },
    {
      "cell_type": "code",
      "source": [
        "class SSD(nn.Module):\n",
        "  def __init__(self,phase,cfg):\n",
        "    super().__init__()\n",
        "    self.phase=phase\n",
        "    self.num_classes=cfg[\"num_classes\"]\n",
        "    self.vgg=make_vgg()\n",
        "    self.extras=make_extras()\n",
        "    self.L2Norm=L2Norm()\n",
        "    self.loc,self.conf=make_loc_conf(cfg[\"num_classes\"],cfg[\"bbox_aspect_num\"])\n",
        "    self.dbox=DBox(cfg)\n",
        "    self.dbox_list=dbox.make_dbox_list()\n",
        "    if phase==\"inference\":self.detect=Detect()"
      ],
      "metadata": {
        "id": "xL7Y7wViD3qQ"
      },
      "execution_count": 14,
      "outputs": []
    },
    {
      "cell_type": "code",
      "source": [
        "ssd_test=SSD(\"train\",cfg=ssd_cfg)"
      ],
      "metadata": {
        "id": "7JGhawwHEVzU"
      },
      "execution_count": 15,
      "outputs": []
    },
    {
      "cell_type": "code",
      "source": [
        "print(ssd_test)"
      ],
      "metadata": {
        "colab": {
          "base_uri": "https://localhost:8080/"
        },
        "id": "-nKsJYX0GgTf",
        "outputId": "9363b262-75c0-4e32-aa4b-d143e85a697a"
      },
      "execution_count": 16,
      "outputs": [
        {
          "output_type": "stream",
          "name": "stdout",
          "text": [
            "SSD(\n",
            "  (vgg): ModuleList(\n",
            "    (0): Conv2d(3, 64, kernel_size=(3, 3), stride=(1, 1), padding=(1, 1))\n",
            "    (1): ReLU(inplace=True)\n",
            "    (2): Conv2d(64, 64, kernel_size=(3, 3), stride=(1, 1), padding=(1, 1))\n",
            "    (3): ReLU(inplace=True)\n",
            "    (4): MaxPool2d(kernel_size=2, stride=2, padding=0, dilation=1, ceil_mode=False)\n",
            "    (5): Conv2d(64, 128, kernel_size=(3, 3), stride=(1, 1), padding=(1, 1))\n",
            "    (6): ReLU(inplace=True)\n",
            "    (7): Conv2d(128, 128, kernel_size=(3, 3), stride=(1, 1), padding=(1, 1))\n",
            "    (8): ReLU(inplace=True)\n",
            "    (9): MaxPool2d(kernel_size=2, stride=2, padding=0, dilation=1, ceil_mode=False)\n",
            "    (10): Conv2d(128, 256, kernel_size=(3, 3), stride=(1, 1), padding=(1, 1))\n",
            "    (11): ReLU(inplace=True)\n",
            "    (12): Conv2d(256, 256, kernel_size=(3, 3), stride=(1, 1), padding=(1, 1))\n",
            "    (13): ReLU(inplace=True)\n",
            "    (14): Conv2d(256, 256, kernel_size=(3, 3), stride=(1, 1), padding=(1, 1))\n",
            "    (15): ReLU(inplace=True)\n",
            "    (16): MaxPool2d(kernel_size=2, stride=2, padding=0, dilation=1, ceil_mode=True)\n",
            "    (17): Conv2d(256, 512, kernel_size=(3, 3), stride=(1, 1), padding=(1, 1))\n",
            "    (18): ReLU(inplace=True)\n",
            "    (19): Conv2d(512, 512, kernel_size=(3, 3), stride=(1, 1), padding=(1, 1))\n",
            "    (20): ReLU(inplace=True)\n",
            "    (21): Conv2d(512, 512, kernel_size=(3, 3), stride=(1, 1), padding=(1, 1))\n",
            "    (22): ReLU(inplace=True)\n",
            "    (23): MaxPool2d(kernel_size=2, stride=2, padding=0, dilation=1, ceil_mode=False)\n",
            "    (24): Conv2d(512, 512, kernel_size=(3, 3), stride=(1, 1), padding=(1, 1))\n",
            "    (25): ReLU(inplace=True)\n",
            "    (26): Conv2d(512, 512, kernel_size=(3, 3), stride=(1, 1), padding=(1, 1))\n",
            "    (27): ReLU(inplace=True)\n",
            "    (28): Conv2d(512, 512, kernel_size=(3, 3), stride=(1, 1), padding=(1, 1))\n",
            "    (29): ReLU(inplace=True)\n",
            "    (30): MaxPool2d(kernel_size=3, stride=1, padding=1, dilation=1, ceil_mode=False)\n",
            "    (31): Conv2d(512, 1024, kernel_size=(3, 3), stride=(1, 1), padding=(6, 6), dilation=(6, 6))\n",
            "    (32): ReLU(inplace=True)\n",
            "    (33): Conv2d(1024, 1024, kernel_size=(1, 1), stride=(1, 1))\n",
            "    (34): ReLU(inplace=True)\n",
            "  )\n",
            "  (extras): ModuleList(\n",
            "    (0): Conv2d(1024, 256, kernel_size=(1, 1), stride=(1, 1))\n",
            "    (1): Conv2d(256, 512, kernel_size=(3, 3), stride=(2, 2), padding=(1, 1))\n",
            "    (2): Conv2d(512, 128, kernel_size=(1, 1), stride=(1, 1))\n",
            "    (3): Conv2d(128, 256, kernel_size=(3, 3), stride=(2, 2), padding=(1, 1))\n",
            "    (4): Conv2d(256, 128, kernel_size=(1, 1), stride=(1, 1))\n",
            "    (5): Conv2d(128, 256, kernel_size=(3, 3), stride=(1, 1))\n",
            "    (6): Conv2d(256, 128, kernel_size=(1, 1), stride=(1, 1))\n",
            "    (7): Conv2d(128, 256, kernel_size=(3, 3), stride=(1, 1))\n",
            "  )\n",
            "  (L2Norm): L2Norm()\n",
            "  (loc): ModuleList(\n",
            "    (0): Conv2d(512, 16, kernel_size=(3, 3), stride=(1, 1), padding=(1, 1))\n",
            "    (1): Conv2d(1024, 24, kernel_size=(3, 3), stride=(1, 1), padding=(1, 1))\n",
            "    (2): Conv2d(512, 24, kernel_size=(3, 3), stride=(1, 1), padding=(1, 1))\n",
            "    (3): Conv2d(256, 24, kernel_size=(3, 3), stride=(1, 1), padding=(1, 1))\n",
            "    (4): Conv2d(256, 16, kernel_size=(3, 3), stride=(1, 1), padding=(1, 1))\n",
            "    (5): Conv2d(256, 16, kernel_size=(3, 3), stride=(1, 1), padding=(1, 1))\n",
            "  )\n",
            "  (conf): ModuleList(\n",
            "    (0): Conv2d(512, 84, kernel_size=(3, 3), stride=(1, 1), padding=(1, 1))\n",
            "    (1): Conv2d(1024, 126, kernel_size=(3, 3), stride=(1, 1), padding=(1, 1))\n",
            "    (2): Conv2d(512, 126, kernel_size=(3, 3), stride=(1, 1), padding=(1, 1))\n",
            "    (3): Conv2d(256, 126, kernel_size=(3, 3), stride=(1, 1), padding=(1, 1))\n",
            "    (4): Conv2d(256, 84, kernel_size=(3, 3), stride=(1, 1), padding=(1, 1))\n",
            "    (5): Conv2d(256, 84, kernel_size=(3, 3), stride=(1, 1), padding=(1, 1))\n",
            "  )\n",
            ")\n"
          ]
        }
      ]
    },
    {
      "cell_type": "code",
      "source": [
        "def decode(loc,dbox_list):\n",
        "  boxes=torch.cat((\n",
        "      dbox_list[:,:2]+loc[:,:2]*0.1*dbox_list[:,2:],\n",
        "      dbox_list[:,2:]*torch.exp(loc[:,2:]*0.2)\n",
        "  ),dim=1)\n",
        "  \n",
        "  boxes[:,:2]-=boxes[:,2:]/2\n",
        "  boxes[:,2:]+=boxes[:,:2]\n",
        "  return boxes"
      ],
      "metadata": {
        "id": "MNUkeY6WLXiz"
      },
      "execution_count": 17,
      "outputs": []
    },
    {
      "cell_type": "code",
      "source": [
        "def nm_supression(boxes,scores,overlap=0.45,top_k=200):\n",
        "  count=0\n",
        "  keep=scores.new(scores.size(0)).zero_().long()\n",
        "  x_min=boxes[:,0]\n",
        "  y_min=boxes[:,1]\n",
        "  x_max=boxes[:,2]\n",
        "  y_max=boxes[:,3]\n",
        "  area=torch.mul(x_max-x_min,y_max-y_min)\n",
        "  tmp_x_min=tmp_y_min=tmp_x_max=tmp_y_max=tmp_w=tmp_h=boxes.new()\n",
        "  v,idx=scores.sort(0)\n",
        "  idx=idx[-top_k:]\n",
        "  while idx.numel()>0:\n",
        "    i=idx[-1]\n",
        "    keep[count]=i\n",
        "    count+=1\n",
        "    if idx.size(0)==1:break\n",
        "    idx=idx[:-1]\n",
        "    torch.index_select(x_min,0,idx,out=tmp_x_min)\n",
        "    torch.index_select(y_min,0,idx,out=tmp_y_min)\n",
        "    torch.index_select(x_max,0,idx,out=tmp_x_max)\n",
        "    torch.index_select(y_max,0,idx,out=tmp_y_max)\n",
        "    tmp_x_min=torch.clamp(tmp_x_min,min=x_min[i])\n",
        "    tmp_y_min=torch.clamp(tmp_y_min,min=y_min[i])\n",
        "    tmp_x_max=torch.clamp(tmp_x_max,min=x_max[i])\n",
        "    tmp_y_max=torch.clamp(tmp_y_max,min=y_max[i])\n",
        "    tmp_w.resize_as_(tmp_x_max)\n",
        "    tmp_h.resize_as_(tmp_y_max)\n",
        "    tmp_w=tmp_x_max-tmp_x_min\n",
        "    tmp_h=tmp_y_max-tmp_y_min\n",
        "    inter=tmp_w*tmp_h\n",
        "    rem_areas=torch.index_select(area,0,idx)\n",
        "    union=(rem_areas-inter)+area[i]\n",
        "    IoU=inter/union\n",
        "    idx=idx[IoU.le(overlap)]\n",
        "  return keep,count"
      ],
      "metadata": {
        "id": "F_b_vfMh-0Sb"
      },
      "execution_count": 18,
      "outputs": []
    },
    {
      "cell_type": "code",
      "source": [
        "class Detect():\n",
        "  def __init__(self,conf_thresh=0.1,top_k=200,nms_thresh=0.45):\n",
        "    self.softmax=nn.Softmax(dim=-1)\n",
        "    self.conf_thresh=conf_thresh\n",
        "    self.top_k=top_k\n",
        "    self.nms_thresh=nms_thresh\n",
        "  def forward(self,loc_data,conf_data,dbox_list):\n",
        "    num_batch=loc_data.size(0)\n",
        "    num_dbox=loc_data.size(1)\n",
        "    num_classes=conf_data(2)\n",
        "    conf_data=self.softmax(conf_data)\n",
        "    output=torch.zeros(num_batch,num_classes,self.top_k,5)\n",
        "    conf_preds=conf_data.transpose(2,1)\n",
        "    for i in range(num_batch):\n",
        "      decoded_boxes=decode(loc_data[i],dbox_list)\n",
        "      conf_scores=conf_preds[i].clone()\n",
        "      for cl in range(1,num_classes):\n",
        "        c_mask=conf_scores[cl].gt(self.conf_thresh)\n",
        "        scores=conf_scores[cl][c_mask]\n",
        "        if scores.nelement()==0:continue\n",
        "        l_mask=c_mask.unsqueeze(1).expana_as(decoded_boxes)\n",
        "        boxes=decoded_boxes[l_mask].view(-1,4)\n",
        "        ids,count=nm_supression(boxes,scores,self.nms_thresh,self.top_k)\n",
        "        output[i,cl,:count]=torch.cat((\n",
        "            scores[ids[:count]].unsqueeze(1),boxes[ids[:count]])\n",
        "        ,1)\n",
        "    return output"
      ],
      "metadata": {
        "id": "R1gvEwM0U8jx"
      },
      "execution_count": 19,
      "outputs": []
    },
    {
      "cell_type": "code",
      "source": [
        "class SSD(nn.Module):\n",
        "  def __init__(self,phase,cfg):\n",
        "    super().__init__()\n",
        "    self.phase=phase\n",
        "    self.num_classes=cfg[\"num_classes\"]\n",
        "    self.vgg=make_vgg()\n",
        "    self.extras=make_extras()\n",
        "    self.L2Norm=L2Norm()\n",
        "    self.loc,self.conf=make_loc_conf(cfg[\"num_classes\"],cfg[\"bbox_aspect_num\"])\n",
        "    self.dbox=DBox(cfg)\n",
        "    self.dbox_list=dbox.make_dbox_list()\n",
        "    if phase==\"inference\":self.detect=Detect()\n",
        "  def forward(self,x):\n",
        "    sources,loc,conf=[],[],[]\n",
        "    for k in range(23):\n",
        "      x=self.vgg[k](x)\n",
        "    source1=self.L2Norm(x)\n",
        "    sources.append(source1)\n",
        "    for k in range(23,len(self.vgg)):\n",
        "      x=self.vgg[k](x)\n",
        "    sources.append(x)\n",
        "    for k,v in enumerate(self.extras):\n",
        "      x=F.relu(v[x],inplace=True)\n",
        "      if k%2==1:sources.append(x)\n",
        "    for (x,l,c) in zip(sources,self.loc,self.conf):\n",
        "      loc.append(l(x).permute(0,2,3,1).contiguous())\n",
        "      conf.append(c(x).permute(0,2,3,1).contiguous())\n",
        "    loc=torch.cat([o.view(o.size(0),-1) for o in loc],1)\n",
        "    conf=torch.cat([o.view(o.size(0),-1) for o in conf],1)\n",
        "    loc=loc.view(loc.size(0),-1,4)\n",
        "    conf=conf.view(conf.size(0),-1,self.num_classes)\n",
        "    output=(loc,conf,self.dbox_list)\n",
        "    if self.phase==\"inference\": return self.detect(output[0], output[1], output[2])\n",
        "    else: return output"
      ],
      "metadata": {
        "id": "4wEvX2K_WgrO"
      },
      "execution_count": 20,
      "outputs": []
    }
  ]
}